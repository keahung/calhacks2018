{
 "cells": [
  {
   "cell_type": "code",
   "execution_count": 2,
   "metadata": {},
   "outputs": [
    {
     "name": "stdout",
     "output_type": "stream",
     "text": [
      "\n",
      "/anaconda/lib/python36.zip\n",
      "/anaconda/lib/python3.6\n",
      "/anaconda/lib/python3.6/lib-dynload\n",
      "/anaconda/lib/python3.6/site-packages\n",
      "/anaconda/lib/python3.6/site-packages/Sphinx-1.6.3-py3.6.egg\n",
      "/anaconda/lib/python3.6/site-packages/aeosa\n",
      "/anaconda/lib/python3.6/site-packages/IPython/extensions\n",
      "/Users/keahung/.ipython\n"
     ]
    },
    {
     "ename": "ModuleNotFoundError",
     "evalue": "No module named 'fitbit'",
     "output_type": "error",
     "traceback": [
      "\u001b[0;31m---------------------------------------------------------------------------\u001b[0m",
      "\u001b[0;31mModuleNotFoundError\u001b[0m                       Traceback (most recent call last)",
      "\u001b[0;32m<ipython-input-2-7243dc537583>\u001b[0m in \u001b[0;36m<module>\u001b[0;34m()\u001b[0m\n\u001b[1;32m      7\u001b[0m \u001b[0;32mfor\u001b[0m \u001b[0mp\u001b[0m \u001b[0;32min\u001b[0m \u001b[0msys\u001b[0m\u001b[0;34m.\u001b[0m\u001b[0mpath\u001b[0m\u001b[0;34m:\u001b[0m\u001b[0;34m\u001b[0m\u001b[0m\n\u001b[1;32m      8\u001b[0m     \u001b[0mprint\u001b[0m\u001b[0;34m(\u001b[0m\u001b[0mp\u001b[0m\u001b[0;34m)\u001b[0m\u001b[0;34m\u001b[0m\u001b[0m\n\u001b[0;32m----> 9\u001b[0;31m \u001b[0;32mimport\u001b[0m \u001b[0mfitbit\u001b[0m\u001b[0;34m\u001b[0m\u001b[0m\n\u001b[0m\u001b[1;32m     10\u001b[0m \u001b[0;32mimport\u001b[0m \u001b[0mgather_keys_oauth2\u001b[0m \u001b[0;32mas\u001b[0m \u001b[0mOauth2\u001b[0m\u001b[0;34m\u001b[0m\u001b[0m\n\u001b[1;32m     11\u001b[0m \u001b[0;32mimport\u001b[0m \u001b[0mpandas\u001b[0m \u001b[0;32mas\u001b[0m \u001b[0mpd\u001b[0m\u001b[0;34m\u001b[0m\u001b[0m\n",
      "\u001b[0;31mModuleNotFoundError\u001b[0m: No module named 'fitbit'"
     ]
    }
   ],
   "source": [
    "# importing necessary modules\n",
    "# packages that need to be installed:\n",
    "# cherrypy, fitbit unofficial api, conda create -n py27 python=2.7 ipykernel, use source activate py27\n",
    "\n",
    "import sys\n",
    "#sys.path.append('/python-fitbit-master')\n",
    "for p in sys.path:\n",
    "    print(p)\n",
    "import fitbit\n",
    "import gather_keys_oauth2 as Oauth2\n",
    "import pandas as pd\n",
    "import datetime\n",
    "import urllib.parse"
   ]
  },
  {
   "cell_type": "code",
   "execution_count": 39,
   "metadata": {
    "collapsed": true
   },
   "outputs": [],
   "source": [
    "CLIENT_ID = '22D58D'\n",
    "CLIENT_SECRET = '3536b816562d1c2e13faee29c0e305e2'"
   ]
  },
  {
   "cell_type": "code",
   "execution_count": 40,
   "metadata": {},
   "outputs": [
    {
     "name": "stderr",
     "output_type": "stream",
     "text": [
      "[03/Nov/2018:11:33:44] ENGINE Listening for SIGTERM.\n",
      "[03/Nov/2018:11:33:44] ENGINE Listening for SIGHUP.\n",
      "[03/Nov/2018:11:33:44] ENGINE Listening for SIGUSR1.\n",
      "[03/Nov/2018:11:33:44] ENGINE Bus STARTING\n",
      "CherryPy Checker:\n",
      "The Application mounted at '' has an empty config.\n",
      "\n",
      "[03/Nov/2018:11:33:44] ENGINE Started monitor thread 'Autoreloader'.\n",
      "[03/Nov/2018:11:33:44] ENGINE Serving on http://127.0.0.1:8080\n",
      "[03/Nov/2018:11:33:44] ENGINE Bus STARTED\n",
      "[03/Nov/2018:11:33:48] ENGINE AttributeError(\"module 'six.moves.urllib_parse' has no attribute 'unquote_to_bytes'\",)\n",
      "Traceback (most recent call last):\n",
      "  File \"/anaconda/lib/python3.6/site-packages/cheroot/server.py\", line 1219, in communicate\n",
      "    req.parse_request()\n",
      "  File \"/anaconda/lib/python3.6/site-packages/cheroot/server.py\", line 689, in parse_request\n",
      "    success = self.read_request_line()\n",
      "  File \"/anaconda/lib/python3.6/site-packages/cheroot/server.py\", line 889, in read_request_line\n",
      "    for x in QUOTED_SLASH_REGEX.split(path)\n",
      "  File \"/anaconda/lib/python3.6/site-packages/cheroot/server.py\", line 889, in <listcomp>\n",
      "    for x in QUOTED_SLASH_REGEX.split(path)\n",
      "AttributeError: module 'six.moves.urllib_parse' has no attribute 'unquote_to_bytes'\n",
      "\n",
      "[03/Nov/2018:11:33:48] ENGINE AttributeError(\"module 'six.moves.urllib_parse' has no attribute 'unquote_to_bytes'\",)\n",
      "Traceback (most recent call last):\n",
      "  File \"/anaconda/lib/python3.6/site-packages/cheroot/server.py\", line 1219, in communicate\n",
      "    req.parse_request()\n",
      "  File \"/anaconda/lib/python3.6/site-packages/cheroot/server.py\", line 689, in parse_request\n",
      "    success = self.read_request_line()\n",
      "  File \"/anaconda/lib/python3.6/site-packages/cheroot/server.py\", line 889, in read_request_line\n",
      "    for x in QUOTED_SLASH_REGEX.split(path)\n",
      "  File \"/anaconda/lib/python3.6/site-packages/cheroot/server.py\", line 889, in <listcomp>\n",
      "    for x in QUOTED_SLASH_REGEX.split(path)\n",
      "AttributeError: module 'six.moves.urllib_parse' has no attribute 'unquote_to_bytes'\n",
      "\n",
      "[03/Nov/2018:11:36:22] ENGINE Keyboard Interrupt: shutting down bus\n",
      "[03/Nov/2018:11:36:22] ENGINE Bus STOPPING\n",
      "[03/Nov/2018:11:36:22] ENGINE HTTP Server cherrypy._cpwsgi_server.CPWSGIServer(('127.0.0.1', 8080)) shut down\n",
      "[03/Nov/2018:11:36:22] ENGINE Stopped thread 'Autoreloader'.\n",
      "[03/Nov/2018:11:36:22] ENGINE Bus STOPPED\n",
      "[03/Nov/2018:11:36:22] ENGINE Bus EXITING\n",
      "[03/Nov/2018:11:36:22] ENGINE Bus EXITED\n",
      "[03/Nov/2018:11:36:22] ENGINE Waiting for child threads to terminate...\n"
     ]
    },
    {
     "ename": "KeyError",
     "evalue": "'access_token'",
     "output_type": "error",
     "traceback": [
      "\u001b[0;31m---------------------------------------------------------------------------\u001b[0m",
      "\u001b[0;31mKeyError\u001b[0m                                  Traceback (most recent call last)",
      "\u001b[0;32m<ipython-input-40-498bd60228e6>\u001b[0m in \u001b[0;36m<module>\u001b[0;34m()\u001b[0m\n\u001b[1;32m      2\u001b[0m \u001b[0mserver\u001b[0m \u001b[0;34m=\u001b[0m \u001b[0mOauth2\u001b[0m\u001b[0;34m.\u001b[0m\u001b[0mOAuth2Server\u001b[0m\u001b[0;34m(\u001b[0m\u001b[0mCLIENT_ID\u001b[0m\u001b[0;34m,\u001b[0m \u001b[0mCLIENT_SECRET\u001b[0m\u001b[0;34m)\u001b[0m\u001b[0;34m\u001b[0m\u001b[0m\n\u001b[1;32m      3\u001b[0m \u001b[0mserver\u001b[0m\u001b[0;34m.\u001b[0m\u001b[0mbrowser_authorize\u001b[0m\u001b[0;34m(\u001b[0m\u001b[0;34m)\u001b[0m\u001b[0;34m\u001b[0m\u001b[0m\n\u001b[0;32m----> 4\u001b[0;31m \u001b[0mACCESS_TOKEN\u001b[0m \u001b[0;34m=\u001b[0m \u001b[0mstr\u001b[0m\u001b[0;34m(\u001b[0m\u001b[0mserver\u001b[0m\u001b[0;34m.\u001b[0m\u001b[0mfitbit\u001b[0m\u001b[0;34m.\u001b[0m\u001b[0mclient\u001b[0m\u001b[0;34m.\u001b[0m\u001b[0msession\u001b[0m\u001b[0;34m.\u001b[0m\u001b[0mtoken\u001b[0m\u001b[0;34m[\u001b[0m\u001b[0;34m'access_token'\u001b[0m\u001b[0;34m]\u001b[0m\u001b[0;34m)\u001b[0m\u001b[0;34m\u001b[0m\u001b[0m\n\u001b[0m\u001b[1;32m      5\u001b[0m \u001b[0mREFRESH_TOKEN\u001b[0m \u001b[0;34m=\u001b[0m \u001b[0mstr\u001b[0m\u001b[0;34m(\u001b[0m\u001b[0mserver\u001b[0m\u001b[0;34m.\u001b[0m\u001b[0mfitbit\u001b[0m\u001b[0;34m.\u001b[0m\u001b[0mclient\u001b[0m\u001b[0;34m.\u001b[0m\u001b[0msession\u001b[0m\u001b[0;34m.\u001b[0m\u001b[0mtoken\u001b[0m\u001b[0;34m[\u001b[0m\u001b[0;34m'refresh_token'\u001b[0m\u001b[0;34m]\u001b[0m\u001b[0;34m)\u001b[0m\u001b[0;34m\u001b[0m\u001b[0m\n\u001b[1;32m      6\u001b[0m \u001b[0mauth2_client\u001b[0m \u001b[0;34m=\u001b[0m \u001b[0mfitbit\u001b[0m\u001b[0;34m.\u001b[0m\u001b[0mFitbit\u001b[0m\u001b[0;34m(\u001b[0m\u001b[0mCLIENT_ID\u001b[0m\u001b[0;34m,\u001b[0m \u001b[0mCLIENT_SECRET\u001b[0m\u001b[0;34m,\u001b[0m \u001b[0moauth2\u001b[0m\u001b[0;34m=\u001b[0m\u001b[0;32mTrue\u001b[0m\u001b[0;34m,\u001b[0m \u001b[0maccess_token\u001b[0m\u001b[0;34m=\u001b[0m\u001b[0mACCESS_TOKEN\u001b[0m\u001b[0;34m,\u001b[0m \u001b[0mrefresh_token\u001b[0m\u001b[0;34m=\u001b[0m\u001b[0mREFRESH_TOKEN\u001b[0m\u001b[0;34m)\u001b[0m\u001b[0;34m\u001b[0m\u001b[0m\n",
      "\u001b[0;31mKeyError\u001b[0m: 'access_token'"
     ]
    }
   ],
   "source": [
    "# some copy pasted code to initialize session\n",
    "server = Oauth2.OAuth2Server(CLIENT_ID, CLIENT_SECRET)\n",
    "server.browser_authorize()\n",
    "ACCESS_TOKEN = str(server.fitbit.client.session.token['access_token'])\n",
    "REFRESH_TOKEN = str(server.fitbit.client.session.token['refresh_token'])\n",
    "auth2_client = fitbit.Fitbit(CLIENT_ID, CLIENT_SECRET, oauth2=True, access_token=ACCESS_TOKEN, refresh_token=REFRESH_TOKEN)"
   ]
  },
  {
   "cell_type": "code",
   "execution_count": null,
   "metadata": {
    "collapsed": true
   },
   "outputs": [],
   "source": [
    "# formats the output in year-month-day\n",
    "yesterday = str((datetime.datetime.now() - datetime.timedelta(days=1)).strftime(\"%Y%m%d\"))\n",
    "yesterday2 = str((datetime.datetime.now() - datetime.timedelta(days=1)).strftime(\"%Y-%m-%d\"))\n",
    "today = str(datetime.datetime.now().strftime(\"%Y%m%d\"))"
   ]
  },
  {
   "cell_type": "code",
   "execution_count": null,
   "metadata": {
    "collapsed": true
   },
   "outputs": [],
   "source": [
    "# gets heart activity\n",
    "fit_statsHR = auth2_client.intraday_time_series('activities/heart', base_date=yesterday2, detail_level='1sec')"
   ]
  }
 ],
 "metadata": {
  "kernelspec": {
   "display_name": "Python 3",
   "language": "python",
   "name": "python3"
  },
  "language_info": {
   "codemirror_mode": {
    "name": "ipython",
    "version": 3
   },
   "file_extension": ".py",
   "mimetype": "text/x-python",
   "name": "python",
   "nbconvert_exporter": "python",
   "pygments_lexer": "ipython3",
   "version": "3.6.2"
  }
 },
 "nbformat": 4,
 "nbformat_minor": 2
}
