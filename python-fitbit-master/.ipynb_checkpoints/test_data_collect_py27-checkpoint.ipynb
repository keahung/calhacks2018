{
 "cells": [
  {
   "cell_type": "code",
   "execution_count": 2,
   "metadata": {},
   "outputs": [],
   "source": [
    "# importing necessary modules\n",
    "# packages that need to be installed:\n",
    "# cherrypy, fitbit unofficial api, conda create -n py27 python=2.7 ipykernel, use source activate py27\n",
    "\n",
    "import sys\n",
    "#sys.path.append('/python-fitbit-master')\n",
    "import fitbit\n",
    "import gather_keys_oauth2 as Oauth2\n",
    "import pandas as pd\n",
    "import datetime\n",
    "#import urllib.parse\n",
    "from urlparse import urlparse"
   ]
  },
  {
   "cell_type": "code",
   "execution_count": 3,
   "metadata": {
    "collapsed": true
   },
   "outputs": [],
   "source": [
    "CLIENT_ID = '22D58D'\n",
    "CLIENT_SECRET = '3536b816562d1c2e13faee29c0e305e2'"
   ]
  },
  {
   "cell_type": "code",
   "execution_count": null,
   "metadata": {},
   "outputs": [
    {
     "name": "stderr",
     "output_type": "stream",
     "text": [
      "[03/Nov/2018:13:24:43] ENGINE Listening for SIGHUP.\n",
      "[03/Nov/2018:13:24:43] ENGINE Listening for SIGTERM.\n",
      "[03/Nov/2018:13:24:43] ENGINE Listening for SIGUSR1.\n",
      "[03/Nov/2018:13:24:43] ENGINE Bus STARTING\n",
      "CherryPy Checker:\n",
      "The Application mounted at '' has an empty config.\n",
      "\n",
      "[03/Nov/2018:13:24:43] ENGINE Started monitor thread 'Autoreloader'.\n",
      "[03/Nov/2018:13:24:43] ENGINE Serving on http://127.0.0.1:8080\n",
      "[03/Nov/2018:13:24:43] ENGINE Bus STARTED\n"
     ]
    },
    {
     "name": "stdout",
     "output_type": "stream",
     "text": [
      "127.0.0.1 - - [03/Nov/2018:13:24:47] \"GET /?code=32c8e4ca40cfe187bb311b2641f0a900fa45575c&state=w7EH6eZ2yl7RRDLDJHhiRkiCIh1d39 HTTP/1.1\" 200 122 \"\" \"Mozilla/5.0 (Macintosh; Intel Mac OS X 10_14) AppleWebKit/605.1.15 (KHTML, like Gecko) Version/12.0 Safari/605.1.15\"\n",
      "127.0.0.1 - - [03/Nov/2018:13:24:47] \"GET /favicon.ico HTTP/1.1\" 200 1406 \"http://127.0.0.1:8080/?code=32c8e4ca40cfe187bb311b2641f0a900fa45575c&state=w7EH6eZ2yl7RRDLDJHhiRkiCIh1d39\" \"Mozilla/5.0 (Macintosh; Intel Mac OS X 10_14) AppleWebKit/605.1.15 (KHTML, like Gecko) Version/12.0 Safari/605.1.15\"\n"
     ]
    },
    {
     "name": "stderr",
     "output_type": "stream",
     "text": [
      "[03/Nov/2018:13:24:48] ENGINE Bus STOPPING\n"
     ]
    }
   ],
   "source": [
    "# some copy pasted code to initialize session\n",
    "server = Oauth2.OAuth2Server(CLIENT_ID, CLIENT_SECRET)\n",
    "server.browser_authorize()\n",
    "ACCESS_TOKEN = str(server.fitbit.client.session.token['access_token'])\n",
    "REFRESH_TOKEN = str(server.fitbit.client.session.token['refresh_token'])\n",
    "auth2_client = fitbit.Fitbit(CLIENT_ID, CLIENT_SECRET, oauth2=True, access_token=ACCESS_TOKEN, refresh_token=REFRESH_TOKEN)"
   ]
  },
  {
   "cell_type": "code",
   "execution_count": null,
   "metadata": {
    "collapsed": true
   },
   "outputs": [],
   "source": []
  }
 ],
 "metadata": {
  "kernelspec": {
   "display_name": "py27newkernel",
   "language": "python",
   "name": "py27newkernel"
  },
  "language_info": {
   "codemirror_mode": {
    "name": "ipython",
    "version": 2
   },
   "file_extension": ".py",
   "mimetype": "text/x-python",
   "name": "python",
   "nbconvert_exporter": "python",
   "pygments_lexer": "ipython2",
   "version": "2.7.15"
  }
 },
 "nbformat": 4,
 "nbformat_minor": 2
}
