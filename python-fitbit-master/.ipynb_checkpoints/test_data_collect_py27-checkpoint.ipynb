{
 "cells": [
  {
   "cell_type": "code",
   "execution_count": 1,
   "metadata": {
    "collapsed": true
   },
   "outputs": [],
   "source": [
    "# importing necessary modules\n",
    "# packages that need to be installed:\n",
    "# cherrypy, fitbit unofficial api, conda create -n py27 python=2.7 ipykernel, use source activate py27\n",
    "# install 2.7 kernel\n",
    "\n",
    "# import sys\n",
    "#sys.path.append('/python-fitbit-master')\n",
    "import fitbit\n",
    "import gather_keys_oauth2 as Oauth2\n",
    "import pandas as pd\n",
    "import datetime\n",
    "#import urllib.parse\n",
    "from urlparse import urlparse"
   ]
  },
  {
   "cell_type": "code",
   "execution_count": 2,
   "metadata": {
    "collapsed": true
   },
   "outputs": [],
   "source": [
    "CLIENT_ID = '22D57W'\n",
    "CLIENT_SECRET = '709ea46f11a31c519070a894d39cdf22'"
   ]
  },
  {
   "cell_type": "code",
   "execution_count": 3,
   "metadata": {},
   "outputs": [
    {
     "name": "stderr",
     "output_type": "stream",
     "text": [
      "[03/Nov/2018:16:10:06] ENGINE Listening for SIGHUP.\n",
      "[03/Nov/2018:16:10:06] ENGINE Listening for SIGTERM.\n",
      "[03/Nov/2018:16:10:06] ENGINE Listening for SIGUSR1.\n",
      "[03/Nov/2018:16:10:06] ENGINE Bus STARTING\n",
      "CherryPy Checker:\n",
      "The Application mounted at '' has an empty config.\n",
      "\n",
      "[03/Nov/2018:16:10:06] ENGINE Started monitor thread 'Autoreloader'.\n",
      "[03/Nov/2018:16:10:06] ENGINE Serving on http://127.0.0.1:8080\n",
      "[03/Nov/2018:16:10:06] ENGINE Bus STARTED\n"
     ]
    },
    {
     "name": "stdout",
     "output_type": "stream",
     "text": [
      "127.0.0.1 - - [03/Nov/2018:16:10:08] \"GET /?code=618a9258b78a9ca757f821a63ffda06665884aeb&state=S6TrZd3EE8NvaeEq12QOmZixmVcAYR HTTP/1.1\" 200 122 \"\" \"Mozilla/5.0 (Macintosh; Intel Mac OS X 10_14) AppleWebKit/605.1.15 (KHTML, like Gecko) Version/12.0 Safari/605.1.15\"\n"
     ]
    },
    {
     "name": "stderr",
     "output_type": "stream",
     "text": [
      "[03/Nov/2018:16:10:09] ENGINE Bus STOPPING\n",
      "[03/Nov/2018:16:10:14] ENGINE HTTP Server cherrypy._cpwsgi_server.CPWSGIServer(('127.0.0.1', 8080)) shut down\n",
      "[03/Nov/2018:16:10:14] ENGINE Stopped thread 'Autoreloader'.\n",
      "[03/Nov/2018:16:10:14] ENGINE Bus STOPPED\n",
      "[03/Nov/2018:16:10:14] ENGINE Bus EXITING\n",
      "[03/Nov/2018:16:10:14] ENGINE Bus EXITED\n",
      "[03/Nov/2018:16:10:14] ENGINE Waiting for child threads to terminate...\n"
     ]
    }
   ],
   "source": [
    "# some copy pasted code to initialize session\n",
    "server = Oauth2.OAuth2Server(CLIENT_ID, CLIENT_SECRET)\n",
    "server.browser_authorize()\n",
    "ACCESS_TOKEN = str(server.fitbit.client.session.token['access_token'])\n",
    "REFRESH_TOKEN = str(server.fitbit.client.session.token['refresh_token'])\n",
    "auth2_client = fitbit.Fitbit(CLIENT_ID, CLIENT_SECRET, oauth2=True, access_token=ACCESS_TOKEN, refresh_token=REFRESH_TOKEN)"
   ]
  },
  {
   "cell_type": "code",
   "execution_count": 15,
   "metadata": {
    "collapsed": true
   },
   "outputs": [],
   "source": [
    "# formats today's and yesterday's dates in yearmonthday and year-month-day, respectively\n",
    "yesterday = str((datetime.datetime.now() - datetime.timedelta(days=1)).strftime(\"%Y%m%d\"))\n",
    "today = str(datetime.datetime.now().strftime(\"%Y%m%d\"))\n",
    "yesterday2 = str((datetime.datetime.now() - datetime.timedelta(days=1)).strftime(\"%Y-%m-%d\"))\n",
    "today2 = str(datetime.datetime.now().strftime(\"%Y-%m-%d\"))"
   ]
  },
  {
   "cell_type": "code",
   "execution_count": 24,
   "metadata": {
    "collapsed": true
   },
   "outputs": [],
   "source": [
    "# gets heart activity\n",
    "#fit_statsHR = auth2_client.intraday_time_series('activities/heart', base_date=yesterday2, detail_level='1sec')\n",
    "# gets elevation data\n",
    "fit_stats_ELEVATION = auth2_client.intraday_time_series('activities/elevation', base_date=today2, detail_level='1min')\n",
    "# gets steps data\n",
    "fit_stats_STEPS = auth2_client.intraday_time_series('activities/steps', base_date=today2, detail_level='1min')\n",
    "# gets user info\n",
    "fit_stats_USER = auth2_client.user_profile_get()\n",
    "# gets user heart rate\n",
    "fit_stats_HR = auth2_client.intraday_time_series('activities/heart', base_date=today2, detail_level='1min')"
   ]
  },
  {
   "cell_type": "code",
   "execution_count": 25,
   "metadata": {},
   "outputs": [],
   "source": [
    "# places elevation data into pandas dataframe to convert to csv\n",
    "time_list = []\n",
    "val_list = []\n",
    "for elem in fit_stats_ELEVATION['activities-elevation-intraday']['dataset']:\n",
    "    val_list.append(elem['value'])\n",
    "    time_list.append(elem['time'])\n",
    "elevationdf = pd.DataFrame({'Elevation':val_list,'Time':time_list})"
   ]
  },
  {
   "cell_type": "code",
   "execution_count": 26,
   "metadata": {},
   "outputs": [],
   "source": [
    "# places steps data into pandas dataframe to convert to csv\n",
    "time_list = []\n",
    "val_list = []\n",
    "for elem in fit_stats_STEPS['activities-steps-intraday']['dataset']:\n",
    "    val_list.append(elem['value'])\n",
    "    time_list.append(elem['time'])\n",
    "stepsdf = pd.DataFrame({'Steps':val_list,'Time':time_list})"
   ]
  },
  {
   "cell_type": "code",
   "execution_count": null,
   "metadata": {
    "collapsed": true
   },
   "outputs": [],
   "source": [
    "elevationdf.to_csv('PATHNAMEHERE', columns=['Time', 'Elevation'], header=True, index=False)\n",
    "stepsdf.to_csv('PATHNAMEHERE', columns=['Time', 'Steps', header=True, index=False])"
   ]
  }
 ],
 "metadata": {
  "kernelspec": {
   "display_name": "py27newkernel",
   "language": "python",
   "name": "py27newkernel"
  },
  "language_info": {
   "codemirror_mode": {
    "name": "ipython",
    "version": 2
   },
   "file_extension": ".py",
   "mimetype": "text/x-python",
   "name": "python",
   "nbconvert_exporter": "python",
   "pygments_lexer": "ipython2",
   "version": "2.7.15"
  }
 },
 "nbformat": 4,
 "nbformat_minor": 2
}
