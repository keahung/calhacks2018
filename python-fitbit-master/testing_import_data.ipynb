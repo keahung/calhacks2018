{
 "cells": [
  {
   "cell_type": "code",
   "execution_count": 1,
   "metadata": {
    "collapsed": true
   },
   "outputs": [],
   "source": [
    "# importing necessary modules\n",
    "# packages that need to be installed:\n",
    "# cherrypy, fitbit unofficial api, conda create -n py27 python=2.7 ipykernel, use source activate py27\n",
    "\n",
    "import sys\n",
    "import fitbit\n",
    "import gather_keys_oauth2 as Oauth2\n",
    "import pandas as pd\n",
    "import datetime\n",
    "import urllib.parse"
   ]
  },
  {
   "cell_type": "code",
   "execution_count": 2,
   "metadata": {
    "collapsed": true
   },
   "outputs": [],
   "source": [
    "CLIENT_ID = '22D58D'\n",
    "CLIENT_SECRET = '3536b816562d1c2e13faee29c0e305e2'"
   ]
  },
  {
   "cell_type": "code",
   "execution_count": null,
   "metadata": {},
   "outputs": [
    {
     "name": "stderr",
     "output_type": "stream",
     "text": [
      "[03/Nov/2018:13:14:43] ENGINE Listening for SIGTERM.\n",
      "[03/Nov/2018:13:14:43] ENGINE Listening for SIGHUP.\n",
      "[03/Nov/2018:13:14:43] ENGINE Listening for SIGUSR1.\n",
      "[03/Nov/2018:13:14:43] ENGINE Bus STARTING\n",
      "CherryPy Checker:\n",
      "The Application mounted at '' has an empty config.\n",
      "\n",
      "[03/Nov/2018:13:14:43] ENGINE Started monitor thread 'Autoreloader'.\n",
      "[03/Nov/2018:13:14:43] ENGINE Serving on http://127.0.0.1:8080\n",
      "[03/Nov/2018:13:14:43] ENGINE Bus STARTED\n",
      "[03/Nov/2018:13:14:47] ENGINE AttributeError(\"module 'six.moves.urllib_parse' has no attribute 'unquote_to_bytes'\",)\n",
      "Traceback (most recent call last):\n",
      "  File \"/anaconda/lib/python3.6/site-packages/cheroot/server.py\", line 1219, in communicate\n",
      "    req.parse_request()\n",
      "  File \"/anaconda/lib/python3.6/site-packages/cheroot/server.py\", line 689, in parse_request\n",
      "    success = self.read_request_line()\n",
      "  File \"/anaconda/lib/python3.6/site-packages/cheroot/server.py\", line 889, in read_request_line\n",
      "    for x in QUOTED_SLASH_REGEX.split(path)\n",
      "  File \"/anaconda/lib/python3.6/site-packages/cheroot/server.py\", line 889, in <listcomp>\n",
      "    for x in QUOTED_SLASH_REGEX.split(path)\n",
      "AttributeError: module 'six.moves.urllib_parse' has no attribute 'unquote_to_bytes'\n",
      "\n",
      "[03/Nov/2018:13:14:47] ENGINE AttributeError(\"module 'six.moves.urllib_parse' has no attribute 'unquote_to_bytes'\",)\n",
      "Traceback (most recent call last):\n",
      "  File \"/anaconda/lib/python3.6/site-packages/cheroot/server.py\", line 1219, in communicate\n",
      "    req.parse_request()\n",
      "  File \"/anaconda/lib/python3.6/site-packages/cheroot/server.py\", line 689, in parse_request\n",
      "    success = self.read_request_line()\n",
      "  File \"/anaconda/lib/python3.6/site-packages/cheroot/server.py\", line 889, in read_request_line\n",
      "    for x in QUOTED_SLASH_REGEX.split(path)\n",
      "  File \"/anaconda/lib/python3.6/site-packages/cheroot/server.py\", line 889, in <listcomp>\n",
      "    for x in QUOTED_SLASH_REGEX.split(path)\n",
      "AttributeError: module 'six.moves.urllib_parse' has no attribute 'unquote_to_bytes'\n",
      "\n"
     ]
    }
   ],
   "source": [
    "# some copy pasted code to initialize session\n",
    "server = Oauth2.OAuth2Server(CLIENT_ID, CLIENT_SECRET)\n",
    "server.browser_authorize()\n",
    "ACCESS_TOKEN = str(server.fitbit.client.session.token['access_token'])\n",
    "REFRESH_TOKEN = str(server.fitbit.client.session.token['refresh_token'])\n",
    "auth2_client = fitbit.Fitbit(CLIENT_ID, CLIENT_SECRET, oauth2=True, access_token=ACCESS_TOKEN, refresh_token=REFRESH_TOKEN)"
   ]
  },
  {
   "cell_type": "code",
   "execution_count": null,
   "metadata": {
    "collapsed": true
   },
   "outputs": [],
   "source": [
    "# formats the output in year-month-day\n",
    "yesterday = str((datetime.datetime.now() - datetime.timedelta(days=1)).strftime(\"%Y%m%d\"))\n",
    "yesterday2 = str((datetime.datetime.now() - datetime.timedelta(days=1)).strftime(\"%Y-%m-%d\"))\n",
    "today = str(datetime.datetime.now().strftime(\"%Y%m%d\"))"
   ]
  },
  {
   "cell_type": "code",
   "execution_count": null,
   "metadata": {
    "collapsed": true
   },
   "outputs": [],
   "source": [
    "# gets heart activity\n",
    "fit_statsHR = auth2_client.intraday_time_series('activities/heart', base_date=yesterday2, detail_level='1sec')"
   ]
  }
 ],
 "metadata": {
  "kernelspec": {
   "display_name": "Python 3",
   "language": "python",
   "name": "python3"
  },
  "language_info": {
   "codemirror_mode": {
    "name": "ipython",
    "version": 3
   },
   "file_extension": ".py",
   "mimetype": "text/x-python",
   "name": "python",
   "nbconvert_exporter": "python",
   "pygments_lexer": "ipython3",
   "version": "3.6.2"
  }
 },
 "nbformat": 4,
 "nbformat_minor": 2
}
